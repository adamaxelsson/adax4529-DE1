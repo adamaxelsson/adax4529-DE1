{
 "cells": [
  {
   "cell_type": "code",
   "execution_count": null,
   "id": "484b6835-932e-4d27-bd43-c99dcaaa56a7",
   "metadata": {},
   "outputs": [],
   "source": [
    "from pyspark import SparkConf\n",
    "from pyspark.sql import SparkSession\n",
    "from operator import add\n",
    "spark_session = SparkSession\\\n",
    "        .builder\\\n",
    "        .master(\"spark://192.168.2.119:7077\") \\\n",
    "        .appName(\"adam-axelsson-part-b\")\\\n",
    "        .config(\"spark.dynamicAllocation.enabled\", True)\\\n",
    "        .config(\"spark.dynamicAllocation.shuffleTracking.enabled\",True)\\\n",
    "        .config(\"spark.shuffle.service.enabled\", False)\\\n",
    "        .config(\"spark.dynamicAllocation.executorIdleTimeout\",\"30s\")\\\n",
    "        .config(\"spark.executor.cores\",2)\\\n",
    "        .config(\"spark.cores.max\",4)\\\n",
    "        .config(\"spark.driver.port\",9998)\\\n",
    "        .config(\"spark.blockManager.port\",10005)\\\n",
    "        .getOrCreate()\n",
    "spark_context = spark_session.sparkContext\n",
    "\n",
    "spark_context.setLogLevel(\"ERROR\")"
   ]
  },
  {
   "cell_type": "code",
   "execution_count": null,
   "id": "f4843d7e-5cd2-4c43-b682-f7f84fc96b7d",
   "metadata": {},
   "outputs": [],
   "source": [
    "#B.1\n",
    "parking = spark_session.read\\\n",
    "    .option(\"header\", \"true\")\\\n",
    "    .csv('hdfs://192.168.2.119:9000/parking-citations.csv')\\\n",
    "    .cache()\n",
    "\n",
    "parking.show()\n"
   ]
  },
  {
   "cell_type": "code",
   "execution_count": null,
   "id": "050c677c-0e18-40c6-b9b6-94b536996189",
   "metadata": {},
   "outputs": [],
   "source": [
    "#B.2\n",
    "\n",
    "parking.printSchema()\n"
   ]
  },
  {
   "cell_type": "code",
   "execution_count": null,
   "id": "bfe1a992-5101-4434-808b-c98c155f0d88",
   "metadata": {},
   "outputs": [],
   "source": [
    "#B.3\n",
    "print(\"Number of rows: %d \\n\" % parking.count())\n",
    "\n",
    "#B.4\n",
    "print(\"Number of partitions: %d\" % parking.rdd.getNumPartitions())"
   ]
  },
  {
   "cell_type": "code",
   "execution_count": null,
   "id": "0684dd65-183c-4e3f-8f1b-41db6f1a415d",
   "metadata": {},
   "outputs": [],
   "source": [
    "#B.5\n",
    "parking = parking.drop(*(\"VIN\",\"Latitude\", \"Longitude\"))\n",
    "\n",
    "#B.6\n",
    "from pyspark.sql.functions import col\n",
    "parking = parking.withColumn(\"Fine amount\", col(\"Fine amount\").cast('float'))\n",
    "max_fine = parking.agg({'Fine amount': 'max'}).collect()[0]\n",
    "print(\"Maximum fine: %d \\n\" % max_fine[0])\n",
    "all_max_fines = parking.where(col(\"Fine amount\") == max_fine[0])\n",
    "print(\"Number of fines for %d: %d \\n \" % (max_fine[0], all_max_fines.count()))"
   ]
  },
  {
   "cell_type": "code",
   "execution_count": null,
   "id": "5389e410-b02c-40b2-ab1c-6dcc2759dbb6",
   "metadata": {},
   "outputs": [],
   "source": [
    "#B.7\n",
    "count_make = parking.groupBy(\"Make\").count()\n",
    "count_make_sorted =  count_make.orderBy(\"count\",ascending=False)\n",
    "top_20_make = count_make_sorted.limit(20)\n",
    "top_20_make.show()"
   ]
  },
  {
   "cell_type": "code",
   "execution_count": null,
   "id": "50cc3af9-23b4-4aca-b111-7f9218aacefb",
   "metadata": {},
   "outputs": [],
   "source": [
    "#B.8\n",
    "from pyspark.sql.functions import udf\n",
    "from pyspark.sql.types import *\n",
    "def color_long_column(column):\n",
    "    COLORS = { \n",
    "        'AL':'Aluminum', 'AM':'Amber', 'BG':'Beige', 'BK':'Black', \n",
    "        'BL':'Blue', 'BN':'Brown', 'BR':'Brown', 'BZ':'Bronze', \n",
    "        'CH':'Charcoal', 'DK':'Dark', 'GD':'Gold', 'GO':'Gold', \n",
    "        'GN':'Green', 'GY':'Gray', 'GT':'Granite', 'IV':'Ivory', \n",
    "        'LT':'Light', 'OL':'Olive', 'OR':'Orange', 'MR':'Maroon', \n",
    "        'PK':'Pink', 'RD':'Red', 'RE':'Red', 'SI':'Silver', 'SL':'Silver', \n",
    "        'SM':'Smoke', 'TN':'Tan', 'VT':'Violet', 'WT':'White', 'WH':'White', \n",
    "        'YL':'Yellow', 'YE':'Yellow', 'UN':'Unknown' \n",
    "        }\n",
    "    if color in COLORS.keys():\n",
    "        return COLORS.get(color)\n",
    "    else: \n",
    "        return color\n",
    "    \n",
    "udf_color_long_column = udf(color_long_column, StringType())\n",
    "color_df = parking.withColumn(\"color long\", udf_color_long_column(\"color\"))\n",
    "color_df.show()\n",
    "        \n",
    "parking.withColumn(col(\"long color\"), None).show()\n",
    "#parking.withColumn(\"color long\", color_long_column(col(\"color\"))).show()"
   ]
  }
 ],
 "metadata": {
  "kernelspec": {
   "display_name": "Python 3 (ipykernel)",
   "language": "python",
   "name": "python3"
  },
  "language_info": {
   "codemirror_mode": {
    "name": "ipython",
    "version": 3
   },
   "file_extension": ".py",
   "mimetype": "text/x-python",
   "name": "python",
   "nbconvert_exporter": "python",
   "pygments_lexer": "ipython3",
   "version": "3.8.10"
  }
 },
 "nbformat": 4,
 "nbformat_minor": 5
}
