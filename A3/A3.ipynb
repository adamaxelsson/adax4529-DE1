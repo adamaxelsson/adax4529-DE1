{
 "cells": [
  {
   "cell_type": "code",
   "execution_count": 38,
   "id": "8ae21ac9-586f-4a04-8c0a-8ffade32ad45",
   "metadata": {},
   "outputs": [],
   "source": [
    "from pyspark.sql import SparkSession\n",
    "from operator import add\n",
    "spark_session = SparkSession\\\n",
    "        .builder\\\n",
    "        .master(\"spark://192.168.2.119:7077\") \\\n",
    "        .appName(\"adam-axelsson\")\\\n",
    "        .config(\"spark.dynamicAllocation.enabled\", True)\\\n",
    "        .config(\"spark.dynamicAllocation.shuffleTracking.enabled\",True)\\\n",
    "        .config(\"spark.shuffle.service.enabled\", False)\\\n",
    "        .config(\"spark.dynamicAllocation.executorIdleTimeout\",\"30s\")\\\n",
    "        .config(\"spark.executor.cores\",2)\\\n",
    "        .config(\"spark.driver.port\",9998)\\\n",
    "        .config(\"spark.blockManager.port\",10005)\\\n",
    "        .getOrCreate()\n",
    "\n",
    "spark_context = spark_session.sparkContext\n",
    "\n",
    "spark_context.setLogLevel(\"ERROR\")"
   ]
  },
  {
   "cell_type": "code",
   "execution_count": 77,
   "id": "0e10f11f-367f-4007-8871-78c92b9b91b9",
   "metadata": {},
   "outputs": [
    {
     "name": "stdout",
     "output_type": "stream",
     "text": [
      "Line count Swedish: 1862234\n",
      "Line count English: 1862234\n",
      "Total number of Partitions: 5\n"
     ]
    }
   ],
   "source": [
    "swe = spark_context.textFile(\"hdfs://192.168.2.119:9000/europarl/europarl-v7.sv-en.sv\")\n",
    "eng = spark_context.textFile(\"hdfs://192.168.2.119:9000/europarl/europarl-v7.sv-en.en\")\n",
    "\n",
    "#A.1.1\n",
    "print(\"Line count Swedish: %d\" % swe.count())\n",
    "#A.1.2\n",
    "print(\"Line count English: %d\" % eng.count())\n",
    "\n",
    "#A.1.3\n",
    "assert(swe.count() == eng.count())\n",
    "\n",
    "#A.1.4\n",
    "totalPartitions = swe.getNumPartitions() + eng.getNumPartitions()\n",
    "print(\"Total number of Partitions: %d\" % totalPartitions)"
   ]
  },
  {
   "cell_type": "code",
   "execution_count": 88,
   "id": "24ea75a0-bfcb-419f-9d57-0962c8027418",
   "metadata": {},
   "outputs": [],
   "source": [
    "#A.2.1\n",
    "def case_insensitive_split(lines):\n",
    "    lower_case = lines.map(lambda line: line.lower())\n",
    "    lines_split = lower_case.flatMap(lambda line: line.split(' '))\n",
    "    lines_stripped = lines_split.flatMap(lambda line: line.strip())\n",
    "    return lines_split"
   ]
  },
  {
   "cell_type": "code",
   "execution_count": 90,
   "id": "74a184e1-a269-4982-8f00-c832da00e0ce",
   "metadata": {},
   "outputs": [
    {
     "name": "stdout",
     "output_type": "stream",
     "text": [
      "['återupptagande', 'av', 'sessionen', 'jag', 'förklarar', 'europaparlamentets', 'session', 'återupptagen', 'efter', 'avbrottet']\n",
      "['resumption', 'of', 'the', 'session', 'i', 'declare', 'resumed', 'the', 'session', 'of']\n"
     ]
    }
   ],
   "source": [
    "#A.2.2\n",
    "swe_split = case_insensitive_split(swe)\n",
    "eng_split = case_insensitive_split(eng)\n",
    "\n",
    "#A.2.3\n",
    "print(swe_split.take(10))\n",
    "print(eng_split.take(10))"
   ]
  },
  {
   "cell_type": "code",
   "execution_count": 91,
   "id": "664d4eb9-fe12-47cc-92cb-502e0c1c04b9",
   "metadata": {},
   "outputs": [],
   "source": [
    "def word_count(word_list):\n",
    "    mapper = word_list.map(lambda word: (word, 1))\n",
    "    reducer = mapper.reduceByKey(add)\n",
    "    return reducer"
   ]
  },
  {
   "cell_type": "code",
   "execution_count": 97,
   "id": "67b60f7c-964c-40a7-a8a7-89c13183e542",
   "metadata": {},
   "outputs": [
    {
     "name": "stdout",
     "output_type": "stream",
     "text": [
      "Most common english words: \n",
      "[('the', 3498375), ('of', 1659758), ('to', 1539760), ('and', 1288401), ('in', 1085993), ('that', 797516), ('a', 773522), ('is', 758050), ('for', 534242), ('we', 522849)]\n",
      "\n",
      "\n",
      "\n",
      "Most common swedish words: \n",
      "[('att', 1706293), ('och', 1344830), ('i', 1050774), ('det', 924866), ('som', 913276), ('för', 908680), ('av', 738068), ('är', 694381), ('en', 620310), ('vi', 539797)]\n"
     ]
    }
   ],
   "source": [
    "\n",
    "#A.3.1\n",
    "word_count_eng = word_count(eng_split)\n",
    "word_count_eng_sorted = word_count_eng.sortBy(lambda x: -x[1])\n",
    "\n",
    "word_count_swe = word_count(swe_split)\n",
    "word_count_swe_sorted = word_count_swe.sortBy(lambda x: -x[1])\n",
    "\n",
    "print(\"Most common english words: \")\n",
    "print(word_count_eng_sorted.take(10))\n",
    "print(\"\\n\\n\")\n",
    "print(\"Most common swedish words: \")\n",
    "print(word_count_swe_sorted.take(10))\n",
    "\n",
    "\"\"\"\n",
    "Results seem reasonable, according to wikipedia these are the most common english words:\n",
    "the,\n",
    "be,\n",
    "to,\n",
    "of,\n",
    "a,\n",
    "and,\n",
    "in,\n",
    "that,\n",
    "have,\n",
    "i.\n",
    "Which is similar to these results\n",
    "\n",
    "For swedish \n",
    "\"\"\""
   ]
  },
  {
   "cell_type": "code",
   "execution_count": 37,
   "id": "8c9ac3da-eb2a-4bea-8562-edbccbdf293f",
   "metadata": {},
   "outputs": [],
   "source": [
    "spark_session.stop()"
   ]
  }
 ],
 "metadata": {
  "kernelspec": {
   "display_name": "Python 3 (ipykernel)",
   "language": "python",
   "name": "python3"
  },
  "language_info": {
   "codemirror_mode": {
    "name": "ipython",
    "version": 3
   },
   "file_extension": ".py",
   "mimetype": "text/x-python",
   "name": "python",
   "nbconvert_exporter": "python",
   "pygments_lexer": "ipython3",
   "version": "3.8.10"
  }
 },
 "nbformat": 4,
 "nbformat_minor": 5
}
