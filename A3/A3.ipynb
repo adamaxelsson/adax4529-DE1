{
 "cells": [
  {
   "cell_type": "code",
   "execution_count": 1,
   "id": "8ae21ac9-586f-4a04-8c0a-8ffade32ad45",
   "metadata": {},
   "outputs": [
    {
     "name": "stderr",
     "output_type": "stream",
     "text": [
      "Using Spark's default log4j profile: org/apache/spark/log4j-defaults.properties\n",
      "Setting default log level to \"WARN\".\n",
      "To adjust logging level use sc.setLogLevel(newLevel). For SparkR, use setLogLevel(newLevel).\n",
      "22/02/23 18:12:06 WARN NativeCodeLoader: Unable to load native-hadoop library for your platform... using builtin-java classes where applicable\n",
      "22/02/23 18:12:09 WARN ExecutorAllocationManager: Dynamic allocation without a shuffle service is an experimental feature.\n"
     ]
    }
   ],
   "source": [
    "\n",
    "from pyspark import SparkConf\n",
    "from pyspark.sql import SparkSession\n",
    "from operator import add\n",
    "spark_session = SparkSession\\\n",
    "        .builder\\\n",
    "        .master(\"spark://192.168.2.119:7077\") \\\n",
    "        .appName(\"adam-axelsson\")\\\n",
    "        .config(\"spark.dynamicAllocation.enabled\", True)\\\n",
    "        .config(\"spark.dynamicAllocation.shuffleTracking.enabled\",True)\\\n",
    "        .config(\"spark.shuffle.service.enabled\", False)\\\n",
    "        .config(\"spark.dynamicAllocation.executorIdleTimeout\",\"30s\")\\\n",
    "        .config(\"spark.executor.cores\",2)\\\n",
    "        .config(\"spark.driver.port\",9998)\\\n",
    "        .config(\"spark.blockManager.port\",10005)\\\n",
    "        .getOrCreate()\n",
    "spark_context = spark_session.sparkContext\n",
    "\n",
    "spark_context.setLogLevel(\"ERROR\")"
   ]
  },
  {
   "cell_type": "code",
   "execution_count": 2,
   "id": "0e10f11f-367f-4007-8871-78c92b9b91b9",
   "metadata": {},
   "outputs": [
    {
     "name": "stderr",
     "output_type": "stream",
     "text": [
      "                                                                                \r"
     ]
    },
    {
     "name": "stdout",
     "output_type": "stream",
     "text": [
      "Line count Swedish: 1862234\n"
     ]
    },
    {
     "name": "stderr",
     "output_type": "stream",
     "text": [
      "                                                                                \r"
     ]
    },
    {
     "name": "stdout",
     "output_type": "stream",
     "text": [
      "Line count English: 1862234\n"
     ]
    },
    {
     "name": "stderr",
     "output_type": "stream",
     "text": [
      "[Stage 3:>                                                          (0 + 2) / 2]\r"
     ]
    },
    {
     "name": "stdout",
     "output_type": "stream",
     "text": [
      "Total number of Partitions: 5\n"
     ]
    },
    {
     "name": "stderr",
     "output_type": "stream",
     "text": [
      "                                                                                \r"
     ]
    }
   ],
   "source": [
    "swe = spark_context.textFile(\"hdfs://192.168.2.119:9000/europarl/europarl-v7.sv-en.sv\")\n",
    "eng = spark_context.textFile(\"hdfs://192.168.2.119:9000/europarl/europarl-v7.sv-en.en\")\n",
    "\n",
    "#A.1.1\n",
    "print(\"Line count Swedish: %d\" % swe.count())\n",
    "#A.1.2\n",
    "print(\"Line count English: %d\" % eng.count())\n",
    "\n",
    "#A.1.3\n",
    "assert(swe.count() == eng.count())\n",
    "\n",
    "#A.1.4\n",
    "totalPartitions = swe.getNumPartitions() + eng.getNumPartitions()\n",
    "print(\"Total number of Partitions: %d\" % totalPartitions)"
   ]
  },
  {
   "cell_type": "code",
   "execution_count": 3,
   "id": "24ea75a0-bfcb-419f-9d57-0962c8027418",
   "metadata": {},
   "outputs": [],
   "source": [
    "#A.2.1\n",
    "def lowercase_split(lines):\n",
    "    lower_case = lines.map(lambda line: line.lower())\n",
    "    lines_split = lower_case.map(lambda line: line.split(' '))\n",
    "    return lines_split"
   ]
  },
  {
   "cell_type": "code",
   "execution_count": 4,
   "id": "74a184e1-a269-4982-8f00-c832da00e0ce",
   "metadata": {},
   "outputs": [
    {
     "name": "stdout",
     "output_type": "stream",
     "text": [
      "[['återupptagande', 'av', 'sessionen'], ['jag', 'förklarar', 'europaparlamentets', 'session', 'återupptagen', 'efter', 'avbrottet', 'den', '17', 'december.', 'jag', 'vill', 'på', 'nytt', 'önska', 'er', 'ett', 'gott', 'nytt', 'år', 'och', 'jag', 'hoppas', 'att', 'ni', 'haft', 'en', 'trevlig', 'semester.'], ['som', 'ni', 'kunnat', 'konstatera', 'ägde', '\"den', 'stora', 'år', '2000-buggen\"', 'aldrig', 'rum.', 'däremot', 'har', 'invånarna', 'i', 'ett', 'antal', 'av', 'våra', 'medlemsländer', 'drabbats', 'av', 'naturkatastrofer', 'som', 'verkligen', 'varit', 'förskräckliga.'], ['ni', 'har', 'begärt', 'en', 'debatt', 'i', 'ämnet', 'under', 'sammanträdesperiodens', 'kommande', 'dagar.'], ['till', 'dess', 'vill', 'jag', 'att', 'vi,', 'som', 'ett', 'antal', 'kolleger', 'begärt,', 'håller', 'en', 'tyst', 'minut', 'för', 'offren', 'för', 'bl.a.', 'stormarna', 'i', 'de', 'länder', 'i', 'europeiska', 'unionen', 'som', 'drabbats.'], ['jag', 'ber', 'er', 'resa', 'er', 'för', 'en', 'tyst', 'minut.'], ['(parlamentet', 'höll', 'en', 'tyst', 'minut.)'], ['fru', 'talman!', 'det', 'gäller', 'en', 'ordningsfråga.'], ['ni', 'känner', 'till', 'från', 'media', 'att', 'det', 'skett', 'en', 'rad', 'bombexplosioner', 'och', 'mord', 'i', 'sri', 'lanka.'], ['en', 'av', 'de', 'personer', 'som', 'mycket', 'nyligen', 'mördades', 'i', 'sri', 'lanka', 'var', 'kumar', 'ponnambalam,', 'som', 'besökte', 'europaparlamentet', 'för', 'bara', 'några', 'månader', 'sedan.']]\n",
      "[['resumption', 'of', 'the', 'session'], ['i', 'declare', 'resumed', 'the', 'session', 'of', 'the', 'european', 'parliament', 'adjourned', 'on', 'friday', '17', 'december', '1999,', 'and', 'i', 'would', 'like', 'once', 'again', 'to', 'wish', 'you', 'a', 'happy', 'new', 'year', 'in', 'the', 'hope', 'that', 'you', 'enjoyed', 'a', 'pleasant', 'festive', 'period.'], ['although,', 'as', 'you', 'will', 'have', 'seen,', 'the', 'dreaded', \"'millennium\", \"bug'\", 'failed', 'to', 'materialise,', 'still', 'the', 'people', 'in', 'a', 'number', 'of', 'countries', 'suffered', 'a', 'series', 'of', 'natural', 'disasters', 'that', 'truly', 'were', 'dreadful.'], ['you', 'have', 'requested', 'a', 'debate', 'on', 'this', 'subject', 'in', 'the', 'course', 'of', 'the', 'next', 'few', 'days,', 'during', 'this', 'part-session.'], ['in', 'the', 'meantime,', 'i', 'should', 'like', 'to', 'observe', 'a', \"minute'\", 's', 'silence,', 'as', 'a', 'number', 'of', 'members', 'have', 'requested,', 'on', 'behalf', 'of', 'all', 'the', 'victims', 'concerned,', 'particularly', 'those', 'of', 'the', 'terrible', 'storms,', 'in', 'the', 'various', 'countries', 'of', 'the', 'european', 'union.'], ['please', 'rise,', 'then,', 'for', 'this', \"minute'\", 's', 'silence.'], ['(the', 'house', 'rose', 'and', 'observed', 'a', \"minute'\", 's', 'silence)'], ['madam', 'president,', 'on', 'a', 'point', 'of', 'order.'], ['you', 'will', 'be', 'aware', 'from', 'the', 'press', 'and', 'television', 'that', 'there', 'have', 'been', 'a', 'number', 'of', 'bomb', 'explosions', 'and', 'killings', 'in', 'sri', 'lanka.'], ['one', 'of', 'the', 'people', 'assassinated', 'very', 'recently', 'in', 'sri', 'lanka', 'was', 'mr', 'kumar', 'ponnambalam,', 'who', 'had', 'visited', 'the', 'european', 'parliament', 'just', 'a', 'few', 'months', 'ago.']]\n"
     ]
    }
   ],
   "source": [
    "#A.2.2\n",
    "swe_split = lowercase_split(swe)\n",
    "eng_split = lowercase_split(eng)\n",
    "\n",
    "#A.2.3\n",
    "print(swe_split.take(10))\n",
    "print(eng_split.take(10))"
   ]
  },
  {
   "cell_type": "code",
   "execution_count": 5,
   "id": "664d4eb9-fe12-47cc-92cb-502e0c1c04b9",
   "metadata": {},
   "outputs": [],
   "source": [
    "\n",
    "def word_count(word_list):\n",
    "    flattened_list = word_list.flatMap(lambda list: [line for line in list])\n",
    "    stripped_list = flattened_list.map(lambda word: word.strip('.,- '))\n",
    "    #Maybe remove?\n",
    "    mapper = stripped_list.map(lambda word: (word, 1))\n",
    "    reducer = mapper.reduceByKey(add)\n",
    "    return reducer"
   ]
  },
  {
   "cell_type": "code",
   "execution_count": 6,
   "id": "67b60f7c-964c-40a7-a8a7-89c13183e542",
   "metadata": {},
   "outputs": [
    {
     "name": "stderr",
     "output_type": "stream",
     "text": [
      "                                                                                \r"
     ]
    },
    {
     "name": "stdout",
     "output_type": "stream",
     "text": [
      "Most common english words: \n",
      "[('the', 3498502), ('of', 1661744), ('to', 1543055), ('and', 1317854), ('in', 1088052), ('that', 837711), ('a', 773672), ('is', 773643), ('for', 537364), ('we', 525767)]\n",
      "\n",
      "\n",
      "\n",
      "Most common swedish words: \n",
      "[('att', 1709436), ('och', 1349914), ('i', 1053572), ('det', 949714), ('som', 917069), ('för', 914357), ('av', 740524), ('är', 700669), ('en', 620774), ('vi', 545269)]\n"
     ]
    },
    {
     "data": {
      "text/plain": [
       "'\\nResults seem reasonable, according to wikipedia these are the most common english words:\\nthe, be, to, of, a, and, in, that, have, i. This seem to coincide quite well with the results\\n\\n\\nFor swedish the 10 most common words according to wikipedia is:\\ni, och, att, det, som, en, på, är, av, för. All these words are in our most common words except for på which is \\nreplaced by för\\n'"
      ]
     },
     "execution_count": 6,
     "metadata": {},
     "output_type": "execute_result"
    }
   ],
   "source": [
    "\n",
    "#A.3.1\n",
    "\n",
    "word_count_eng = word_count(eng_split)\n",
    "word_count_eng_sorted = word_count_eng.sortBy(lambda x: -x[1])\n",
    "\n",
    "word_count_swe = word_count(swe_split)\n",
    "word_count_swe_sorted = word_count_swe.sortBy(lambda x: -x[1])\n",
    "\n",
    "print(\"Most common english words: \")\n",
    "print(word_count_eng_sorted.take(10))\n",
    "print(\"\\n\\n\")\n",
    "print(\"Most common swedish words: \")\n",
    "print(word_count_swe_sorted.take(10))\n",
    "\n",
    "\n",
    "#A.3.2\n",
    "\"\"\"\n",
    "Results seem reasonable, according to wikipedia these are the most common english words:\n",
    "the, be, to, of, a, and, in, that, have, i. This seem to coincide quite well with the results\n",
    "\n",
    "\n",
    "For swedish the 10 most common words according to wikipedia is:\n",
    "i, och, att, det, som, en, på, är, av, för. All these words are in our most common words except for på which is \n",
    "replaced by för\n",
    "\"\"\""
   ]
  },
  {
   "cell_type": "code",
   "execution_count": 7,
   "id": "c0fb999c-dfac-45bc-8021-da31e78e0ac7",
   "metadata": {},
   "outputs": [
    {
     "name": "stdout",
     "output_type": "stream",
     "text": [
      "Most common english words: \n",
      "[('the', 3498502), ('of', 1661744), ('to', 1543055), ('and', 1317854), ('in', 1088052), ('that', 837711), ('a', 773672), ('is', 773643), ('for', 537364), ('we', 525767)]\n",
      "\n",
      "\n",
      "\n",
      "Most common swedish words: \n",
      "[('att', 1709436), ('och', 1349914), ('i', 1053572), ('det', 949714), ('som', 917069), ('för', 914357), ('av', 740524), ('är', 700669), ('en', 620774), ('vi', 545269)]\n"
     ]
    }
   ],
   "source": [
    "word_count_eng_sorted = word_count_eng.sortBy(lambda x: -x[1])\n",
    "word_count_swe_sorted = word_count_swe.sortBy(lambda x: -x[1])\n",
    "print(\"Most common english words: \")\n",
    "print(word_count_eng_sorted.take(10))\n",
    "print(\"\\n\\n\")\n",
    "print(\"Most common swedish words: \")\n",
    "print(word_count_swe_sorted.take(10))\n"
   ]
  },
  {
   "cell_type": "code",
   "execution_count": 8,
   "id": "9fd48952-51ee-49eb-b7bb-123308620b54",
   "metadata": {},
   "outputs": [
    {
     "name": "stderr",
     "output_type": "stream",
     "text": [
      "                                                                                \r"
     ]
    }
   ],
   "source": [
    "#A.4.1\n",
    "sv1 = swe_split.zipWithIndex()\n",
    "en1 = eng_split.zipWithIndex()\n"
   ]
  },
  {
   "cell_type": "code",
   "execution_count": 9,
   "id": "a65f59b6-0039-4c29-96be-367eed01fc43",
   "metadata": {},
   "outputs": [],
   "source": [
    "#A.4.2\n",
    "sv2 = sv1.map(lambda x: (x[1],x[0]))\n",
    "en2 = en1.map(lambda x: (x[1],x[0]))"
   ]
  },
  {
   "cell_type": "code",
   "execution_count": 10,
   "id": "4886ec6c-b120-44d3-84ec-6b6f5412d9d9",
   "metadata": {},
   "outputs": [
    {
     "name": "stderr",
     "output_type": "stream",
     "text": [
      "[Stage 37:>                                                         (0 + 1) / 1]\r"
     ]
    },
    {
     "name": "stdout",
     "output_type": "stream",
     "text": [
      "[(902130, (['written', 'statements', '(rule', '142)'], ['skriftliga', 'förklaringar', '(artikel', '142)']))]\n"
     ]
    },
    {
     "name": "stderr",
     "output_type": "stream",
     "text": [
      "                                                                                \r"
     ]
    }
   ],
   "source": [
    "#A.4.3\n",
    "join3 = en2.join(sv2)\n",
    "print(join3.take(1))"
   ]
  },
  {
   "cell_type": "code",
   "execution_count": 11,
   "id": "8aae1cbf-6af2-4edc-b268-5c7d2b198562",
   "metadata": {},
   "outputs": [
    {
     "name": "stderr",
     "output_type": "stream",
     "text": [
      "                                                                                \r"
     ]
    },
    {
     "name": "stdout",
     "output_type": "stream",
     "text": [
      "1862234\n"
     ]
    },
    {
     "name": "stderr",
     "output_type": "stream",
     "text": [
      "                                                                                \r"
     ]
    },
    {
     "name": "stdout",
     "output_type": "stream",
     "text": [
      "1862234\n"
     ]
    },
    {
     "name": "stderr",
     "output_type": "stream",
     "text": [
      "[Stage 43:==============================================>           (4 + 1) / 5]\r"
     ]
    },
    {
     "name": "stdout",
     "output_type": "stream",
     "text": [
      "1862234\n"
     ]
    },
    {
     "name": "stderr",
     "output_type": "stream",
     "text": [
      "                                                                                \r"
     ]
    }
   ],
   "source": [
    "#A.4.4\n",
    "join4 = join3.filter(lambda x: x[1][1] != \"\").filter(lambda x: x[1][1] is not None)\n",
    "join5 = join4.filter(lambda x: x[1][0] != \"\").filter(lambda x: x[1][0] is not None)\n",
    "print(join4.count())\n",
    "print(join3.count())\n",
    "print(join5.count())\n",
    "\n",
    "#Bad filtering or no missing values?"
   ]
  },
  {
   "cell_type": "code",
   "execution_count": 12,
   "id": "0da0389f-5f75-437b-8802-3933b885f8bb",
   "metadata": {},
   "outputs": [
    {
     "name": "stderr",
     "output_type": "stream",
     "text": [
      "[Stage 45:==============================================>           (4 + 1) / 5]\r"
     ]
    },
    {
     "name": "stdout",
     "output_type": "stream",
     "text": [
      "85439\n"
     ]
    },
    {
     "name": "stderr",
     "output_type": "stream",
     "text": [
      "                                                                                \r"
     ]
    }
   ],
   "source": [
    "#A.4.5\n",
    "join6 = join5.filter(lambda x: len(x[1][0]) <= 5)\n",
    "\n",
    "print(join6.count())"
   ]
  },
  {
   "cell_type": "code",
   "execution_count": 13,
   "id": "6cf6cc37-96d4-491d-a4d7-84795428d7c3",
   "metadata": {},
   "outputs": [
    {
     "name": "stderr",
     "output_type": "stream",
     "text": [
      "[Stage 47:==============================================>           (4 + 1) / 5]\r"
     ]
    },
    {
     "name": "stdout",
     "output_type": "stream",
     "text": [
      "38016\n"
     ]
    },
    {
     "name": "stderr",
     "output_type": "stream",
     "text": [
      "                                                                                \r"
     ]
    }
   ],
   "source": [
    "#A.4.6\n",
    "join7 = join6.filter(lambda x: len(x[1][0]) == len(x[1][1]))\n",
    "print(join7.count())"
   ]
  },
  {
   "cell_type": "code",
   "execution_count": 14,
   "id": "d037a7e8-5e86-49cf-96ba-214d931257c8",
   "metadata": {},
   "outputs": [
    {
     "name": "stderr",
     "output_type": "stream",
     "text": [
      "[Stage 49:>                                                         (0 + 1) / 1]\r"
     ]
    },
    {
     "name": "stdout",
     "output_type": "stream",
     "text": [
      "['is', 'herr']\n",
      "['that', 'brok,']\n",
      "['right,', 'är']\n",
      "['mr', 'det']\n",
      "['brok?', 'så?']\n",
      "['peace', 'freden']\n",
      "['is', 'är']\n",
      "['necessary.', 'nödvändig.']\n",
      "['we', 'det']\n",
      "['know', 'vet']\n"
     ]
    },
    {
     "name": "stderr",
     "output_type": "stream",
     "text": [
      "                                                                                \r"
     ]
    }
   ],
   "source": [
    "#A.4.7\n",
    "join8 = join7.flatMap(lambda x: zip(x[1][0], x[1][1]))\n",
    "for obj in join8.take(10):\n",
    "    print(list(obj))\n",
    "    \n",
    "#Fungerar på vissa meningar, men inte alla"
   ]
  },
  {
   "cell_type": "code",
   "execution_count": 15,
   "id": "20310098-c6da-4b30-86c9-f93e4a6ee470",
   "metadata": {},
   "outputs": [
    {
     "name": "stderr",
     "output_type": "stream",
     "text": [
      "[Stage 51:==============================================>           (4 + 1) / 5]\r"
     ]
    },
    {
     "name": "stdout",
     "output_type": "stream",
     "text": [
      "(('fearful.', 'rädda.'), 1)\n",
      "(('closed.', 'avslutad.'), 2951)\n",
      "(('why?', 'varför?'), 374)\n",
      "(('committing', 'in'), 1)\n",
      "(('more', 'mer'), 69)\n",
      "(('am', 'gläder'), 4)\n",
      "(('very', 'mig'), 7)\n",
      "(('the', 'ärade'), 4)\n",
      "(('27.', '27.'), 14)\n",
      "(('this', 'det'), 669)\n"
     ]
    },
    {
     "name": "stderr",
     "output_type": "stream",
     "text": [
      "                                                                                \r"
     ]
    }
   ],
   "source": [
    "#A.4.8\n",
    "\n",
    "join9 = join8.map(lambda x: (x, 1))\n",
    "join10 = join9.reduceByKey(add)\n",
    "\n",
    "for obj in join10.take(10):\n",
    "    print(obj)"
   ]
  },
  {
   "cell_type": "code",
   "execution_count": 16,
   "id": "fadcb137-dbdb-4369-8fad-ce2ba8ac3472",
   "metadata": {},
   "outputs": [
    {
     "name": "stdout",
     "output_type": "stream",
     "text": [
      "[(('is', 'är'), 4699), (('closed.', 'avslutad.'), 2951), (('(applause)', '(applåder)'), 2546), (('', '.'), 2223), (('.', '.'), 2084), (('that', 'det'), 1494), (('we', 'vi'), 1443), (('the', 'jag'), 1336), (('is', 'debatten'), 1327), (('debate', 'förklarar'), 1319)]\n"
     ]
    }
   ],
   "source": [
    "#A.4.9\n",
    "join11 = join10.sortBy(lambda x: -x[1])\n",
    "\n",
    "print(join11.take(10))"
   ]
  },
  {
   "cell_type": "code",
   "execution_count": 17,
   "id": "8c9ac3da-eb2a-4bea-8562-edbccbdf293f",
   "metadata": {},
   "outputs": [],
   "source": [
    "spark_session.stop()"
   ]
  },
  {
   "cell_type": "code",
   "execution_count": null,
   "id": "da8f132e-7520-4ce0-bca6-37f050c95915",
   "metadata": {},
   "outputs": [],
   "source": []
  }
 ],
 "metadata": {
  "kernelspec": {
   "display_name": "Python 3 (ipykernel)",
   "language": "python",
   "name": "python3"
  },
  "language_info": {
   "codemirror_mode": {
    "name": "ipython",
    "version": 3
   },
   "file_extension": ".py",
   "mimetype": "text/x-python",
   "name": "python",
   "nbconvert_exporter": "python",
   "pygments_lexer": "ipython3",
   "version": "3.8.10"
  }
 },
 "nbformat": 4,
 "nbformat_minor": 5
}
